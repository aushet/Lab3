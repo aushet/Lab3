{
 "cells": [
  {
   "cell_type": "markdown",
   "id": "90081b89-edac-4cec-b162-bbf8bbe813c1",
   "metadata": {},
   "source": [
    "Exercise1"
   ]
  },
  {
   "cell_type": "code",
   "execution_count": null,
   "id": "5b10b143-18cb-4ebc-886e-23980b4814a1",
   "metadata": {},
   "outputs": [],
   "source": [
    "\n",
    "class StringProcessor:\n",
    "    def getString(self):\n",
    "        self.text = input(\"Введите строку: \")  \n",
    "\n",
    "    \n",
    "    def printString(self):\n",
    "        print(self.text.upper())  \n",
    "\n",
    "sp = StringProcessor()\n",
    "\n",
    "\n",
    "sp.getString()    \n",
    "sp.printString()  "
   ]
  },
  {
   "cell_type": "markdown",
   "id": "d725e0c5-93ac-4116-9052-6ea28f510440",
   "metadata": {},
   "source": [
    "Exercise2"
   ]
  },
  {
   "cell_type": "code",
   "execution_count": 6,
   "id": "d762e03f-e9e2-4b32-839f-809083489ff7",
   "metadata": {},
   "outputs": [
    {
     "name": "stdout",
     "output_type": "stream",
     "text": [
      "Enter the lenght of the square: \n"
     ]
    },
    {
     "name": "stdin",
     "output_type": "stream",
     "text": [
      " 5\n"
     ]
    },
    {
     "name": "stdout",
     "output_type": "stream",
     "text": [
      "area equals 25\n",
      "area equals 0\n"
     ]
    }
   ],
   "source": [
    "class Shape():\n",
    "    def area(self):\n",
    "        print(\"area equals 0\")\n",
    "\n",
    "class Square(Shape):\n",
    "    def __init__ (self, lenght):\n",
    "        self.lenght = lenght\n",
    "    def area(self):\n",
    "        print(\"area equals\", self.lenght**2)\n",
    "\n",
    "print(\"Enter the lenght of the square: \")\n",
    "x = Square(int(input()))\n",
    "y = Shape()\n",
    "x.area()\n",
    "y.area()                "
   ]
  },
  {
   "cell_type": "markdown",
   "id": "2c834ea3-c0ae-4a72-a28d-ce23d5083451",
   "metadata": {},
   "source": [
    "Exercise3"
   ]
  },
  {
   "cell_type": "code",
   "execution_count": 11,
   "id": "3b09feb7-b4e3-4497-9cc3-f444041c18ed",
   "metadata": {},
   "outputs": [
    {
     "name": "stdout",
     "output_type": "stream",
     "text": [
      "Enter the length and width of the rectangle: \n"
     ]
    },
    {
     "name": "stdin",
     "output_type": "stream",
     "text": [
      " 5\n",
      " 4\n"
     ]
    },
    {
     "name": "stdout",
     "output_type": "stream",
     "text": [
      "area equals:  20\n"
     ]
    }
   ],
   "source": [
    "class Shape():\n",
    "    def area(self):\n",
    "        print(\"area equals 0\")\n",
    "\n",
    "class Rectangle(Shape):\n",
    "    def __init__(self, length, width): \n",
    "        self.length = length\n",
    "        self.width = width\n",
    "\n",
    "    def area(self):\n",
    "        print(\"area equals: \", self.length * self.width)\n",
    "print(\"Enter the length and width of the rectangle: \")\n",
    "length = int(input())  \n",
    "width = int(input())   \n",
    "x = Rectangle(length, width)\n",
    "x.area()  \n"
   ]
  },
  {
   "cell_type": "markdown",
   "id": "efd1324b-cce7-4be5-9ad0-113524b78c06",
   "metadata": {},
   "source": [
    "Exercise4"
   ]
  },
  {
   "cell_type": "code",
   "execution_count": 18,
   "id": "9ed5421b-a59b-420c-a117-ed48669b420a",
   "metadata": {},
   "outputs": [
    {
     "name": "stdin",
     "output_type": "stream",
     "text": [
      "x coordinate: 5\n",
      "y coordinate: 4\n"
     ]
    },
    {
     "name": "stdout",
     "output_type": "stream",
     "text": [
      "coordinates are:\n",
      "( 5 , 4 )\n"
     ]
    },
    {
     "name": "stdin",
     "output_type": "stream",
     "text": [
      "How you want x to be moved? 45\n",
      "And y? 47\n"
     ]
    },
    {
     "name": "stdout",
     "output_type": "stream",
     "text": [
      "New coordinates:\n",
      "( 50 , 51 )\n"
     ]
    },
    {
     "name": "stdin",
     "output_type": "stream",
     "text": [
      "2nd point's x: 41\n",
      "and y: 45\n"
     ]
    },
    {
     "name": "stdout",
     "output_type": "stream",
     "text": [
      "distance is: 10.816653826391969\n"
     ]
    },
    {
     "name": "stdin",
     "output_type": "stream",
     "text": [
      " 10\n"
     ]
    },
    {
     "ename": "IndexError",
     "evalue": "list index out of range",
     "output_type": "error",
     "traceback": [
      "\u001b[1;31m---------------------------------------------------------------------------\u001b[0m",
      "\u001b[1;31mIndexError\u001b[0m                                Traceback (most recent call last)",
      "Cell \u001b[1;32mIn[18], line 24\u001b[0m\n\u001b[0;32m     22\u001b[0m iinp \u001b[38;5;241m=\u001b[39m \u001b[38;5;28minput\u001b[39m()\n\u001b[0;32m     23\u001b[0m coords \u001b[38;5;241m=\u001b[39m iinp\u001b[38;5;241m.\u001b[39msplit()\n\u001b[1;32m---> 24\u001b[0m p \u001b[38;5;241m=\u001b[39m Point(\u001b[38;5;28mint\u001b[39m(coords[\u001b[38;5;241m0\u001b[39m]), \u001b[38;5;28mint\u001b[39m(coords[\u001b[38;5;241m1\u001b[39m]))\n\u001b[0;32m     25\u001b[0m p\u001b[38;5;241m.\u001b[39mshow()\n",
      "\u001b[1;31mIndexError\u001b[0m: list index out of range"
     ]
    }
   ],
   "source": [
    "import math\n",
    "class Point():\n",
    "    def __init__(self, x, y):\n",
    "        self.x = x\n",
    "        self.y = y\n",
    "    def show(self):\n",
    "        print(\"(\", self.x, \",\", self.y, \")\")\n",
    "    def move(self, x1, y1):\n",
    "        self.x += x1\n",
    "        self.y += y1\n",
    "    def dist(self, x2, y2):\n",
    "        print(\"distance is:\", math.sqrt((x2 - self.x)**2 + (y2 - self.y)**2))\n",
    "\n",
    "point = Point(int(input(\"x coordinate:\")), int(input(\"y coordinate:\")))\n",
    "print(\"coordinates are:\")\n",
    "point.show()\n",
    "point.move(int(input(\"How you want x to be moved?\")), int(input(\"And y?\")))\n",
    "print(\"New coordinates:\")\n",
    "point.show()\n",
    "point.dist(int(input(\"2nd point's x:\")), int(input(\"and y:\")))\n",
    "\n",
    "iinp = input()\n",
    "coords = iinp.split()\n",
    "p = Point(int(coords[0]), int(coords[1]))\n",
    "p.show()\n"
   ]
  },
  {
   "cell_type": "markdown",
   "id": "579d64b6-e84a-4592-8501-a7bdb1e3da40",
   "metadata": {},
   "source": [
    "Exercise5"
   ]
  },
  {
   "cell_type": "code",
   "execution_count": null,
   "id": "f41d9ccc-f035-49ca-b998-fd376bb852ff",
   "metadata": {},
   "outputs": [
    {
     "name": "stdout",
     "output_type": "stream",
     "text": [
      "Your name and balance: \n"
     ]
    }
   ],
   "source": [
    "class Account:\n",
    "    def __init__(self, owner, balance):\n",
    "        self.owner = owner\n",
    "        self.balance = balance\n",
    "    def deposit(self, monthes):\n",
    "        for i in range(monthes):\n",
    "            self.balance += 0.1*self.balance\n",
    "        print(\"Now you have: \", self.balance)\n",
    "    def withdraw(self, money):\n",
    "        if money < 0:\n",
    "            print(\"You can't withdraw negative amount of money\")\n",
    "        elif money > self.balance:\n",
    "            print(\"You don't have enough money\")\n",
    "        else:\n",
    "            self.balance -= money\n",
    "            print(\"Now you have: \", self.balance)\n",
    "print(\"Your name and balance: \")\n",
    "owner = str(input())\n",
    "balance = float(input())\n",
    "acc = Account(owner, balance)\n",
    "print(\"How many monthes you want to deposit money? \")\n",
    "monthes = int(input())\n",
    "acc.deposit(monthes)\n",
    "print(\"How much you want to withdraw? \")\n",
    "acc.withdraw(float(input()))\n",
    "print(owner, \"has \", acc.balance, \" on his account\")\n",
    "    \n",
    "        "
   ]
  },
  {
   "cell_type": "markdown",
   "id": "51c837bf-a3b6-4f4b-bb69-484c1998713d",
   "metadata": {},
   "source": [
    "Exercise6"
   ]
  },
  {
   "cell_type": "code",
   "execution_count": null,
   "id": "828221a3-6f01-4cf1-a251-33d48fae026f",
   "metadata": {},
   "outputs": [],
   "source": [
    "lst = list(map(int, input().split()))\n",
    "primes = filter(lambda x: all(x%i != 0 for i in range(2, x)), lst)\n",
    "res = list(primes)\n",
    "if 1 in res:\n",
    "    res.remove(1)\n",
    "print(res) "
   ]
  }
 ],
 "metadata": {
  "kernelspec": {
   "display_name": "Python [conda env:base] *",
   "language": "python",
   "name": "conda-base-py"
  },
  "language_info": {
   "codemirror_mode": {
    "name": "ipython",
    "version": 3
   },
   "file_extension": ".py",
   "mimetype": "text/x-python",
   "name": "python",
   "nbconvert_exporter": "python",
   "pygments_lexer": "ipython3",
   "version": "3.12.7"
  }
 },
 "nbformat": 4,
 "nbformat_minor": 5
}
