{
 "cells": [
  {
   "cell_type": "markdown",
   "id": "937fe772-65ff-4506-bd31-3ac5cdf1fa1f",
   "metadata": {},
   "source": [
    "Exercise1"
   ]
  },
  {
   "cell_type": "code",
   "execution_count": 4,
   "id": "3c93c0cc-d401-4711-9af6-1e130aa3a013",
   "metadata": {},
   "outputs": [
    {
     "name": "stdin",
     "output_type": "stream",
     "text": [
      " 55\n"
     ]
    },
    {
     "name": "stdout",
     "output_type": "stream",
     "text": [
      "1559.2237705\n"
     ]
    }
   ],
   "source": [
    "def myfunction(grams):\n",
    "    ounces = 28.3495231 * grams\n",
    "    return ounces\n",
    "\n",
    "grams = int(input())\n",
    "ounces = myfunction(grams)\n",
    "print(ounces)"
   ]
  },
  {
   "cell_type": "markdown",
   "id": "52cdceed-48f5-4f05-812e-1ef29a29dbd2",
   "metadata": {},
   "source": [
    "Exercise2"
   ]
  },
  {
   "cell_type": "code",
   "execution_count": 11,
   "id": "3430a05e-09cc-48bd-be87-a9d4f3ce4b28",
   "metadata": {},
   "outputs": [
    {
     "name": "stdin",
     "output_type": "stream",
     "text": [
      " 70\n"
     ]
    },
    {
     "name": "stdout",
     "output_type": "stream",
     "text": [
      "21.11111111111111\n"
     ]
    }
   ],
   "source": [
    "def myfunction(F):\n",
    "    C = (5 / 9) * (F-32)\n",
    "    return C\n",
    "\n",
    "F = int(input())\n",
    "C = myfunction(F)\n",
    "print(C)"
   ]
  },
  {
   "cell_type": "markdown",
   "id": "05e843b5-b856-417d-a08f-4772dab59dac",
   "metadata": {},
   "source": [
    "Exercise3"
   ]
  },
  {
   "cell_type": "code",
   "execution_count": 16,
   "id": "daeb05e9-2993-4e0e-9f00-6e36652d7a26",
   "metadata": {},
   "outputs": [
    {
     "name": "stdin",
     "output_type": "stream",
     "text": [
      " 35\n",
      " 94\n"
     ]
    },
    {
     "name": "stdout",
     "output_type": "stream",
     "text": [
      "Chickens: 23, Rabbits: 12\n"
     ]
    }
   ],
   "source": [
    "def solve(numheads, numlegs):\n",
    "    for chickens in range(numheads + 1):\n",
    "        rabbits = numheads - chickens\n",
    "        if (chickens * 2 + rabbits * 4) == numlegs:\n",
    "            return chickens, rabbits\n",
    "    return \"No solution\"\n",
    "numheads = int(input())\n",
    "numlegs = int(input())\n",
    "chickens, rabbits = solve(numheads, numlegs)\n",
    "print(f\"Chickens: {chickens}, Rabbits: {rabbits}\")"
   ]
  },
  {
   "cell_type": "markdown",
   "id": "767db473-6014-4624-8364-0b2e4cc04a59",
   "metadata": {},
   "source": [
    "Exercise4"
   ]
  },
  {
   "cell_type": "code",
   "execution_count": 19,
   "id": "8c8deb48-be97-47c3-8eea-20105bd5e717",
   "metadata": {},
   "outputs": [
    {
     "name": "stdin",
     "output_type": "stream",
     "text": [
      " 1 2 3 4 5 6 7 8 9 10 11 12 13 14 15\n"
     ]
    },
    {
     "name": "stdout",
     "output_type": "stream",
     "text": [
      "[2, 3, 5, 7, 11, 13]\n"
     ]
    }
   ],
   "source": [
    "def is_prime(n):\n",
    "    if n < 2:\n",
    "        return False\n",
    "    for i in range(2, int(n ** 0.5) + 1):\n",
    "        if n % i == 0:\n",
    "            return False\n",
    "    return True\n",
    "\n",
    "def filter_prime(numbers):\n",
    "    return [num for num in numbers if is_prime(num)]\n",
    "\n",
    "numbers = list(map(int, input().split()))\n",
    "print(filter_prime(numbers))"
   ]
  },
  {
   "cell_type": "markdown",
   "id": "428ca045-28e0-45f1-b4ee-6f4db8ca6044",
   "metadata": {},
   "source": [
    "Exercise5"
   ]
  },
  {
   "cell_type": "code",
   "execution_count": 22,
   "id": "49ee5cdc-3041-4042-9724-d9d96475d02f",
   "metadata": {},
   "outputs": [
    {
     "name": "stdin",
     "output_type": "stream",
     "text": [
      " abc\n"
     ]
    },
    {
     "name": "stdout",
     "output_type": "stream",
     "text": [
      "abc\n",
      "acb\n",
      "bac\n",
      "bca\n",
      "cab\n",
      "cba\n"
     ]
    }
   ],
   "source": [
    "def permute(s, answer=\"\"):\n",
    "    if len(s) == 0:\n",
    "        print(answer)\n",
    "        return\n",
    "    for i in range(len(s)):\n",
    "        ch = s[i]\n",
    "        left_substr = s[:i] + s[i + 1:]\n",
    "        permute(left_substr, answer + ch)\n",
    "s = input()\n",
    "permute(s)"
   ]
  },
  {
   "cell_type": "markdown",
   "id": "858222e9-c7be-4516-a921-137d544464a1",
   "metadata": {},
   "source": [
    "Exercise6"
   ]
  },
  {
   "cell_type": "code",
   "execution_count": 4,
   "id": "5d037dc3-2256-4b6a-870c-690ffa2efdb3",
   "metadata": {},
   "outputs": [
    {
     "name": "stdin",
     "output_type": "stream",
     "text": [
      " I am from Uralsk\n"
     ]
    },
    {
     "name": "stdout",
     "output_type": "stream",
     "text": [
      "Uralsk from am I\n"
     ]
    }
   ],
   "source": [
    "def reverse_sentence(sentence):\n",
    "    words = sentence.split()\n",
    "    reversed_words = words[::-1]\n",
    "    reversed_sentence = \" \".join(reversed_words)\n",
    "    return reversed_sentence\n",
    "sentence = input()\n",
    "print(reverse_sentence(sentence))\n"
   ]
  },
  {
   "cell_type": "markdown",
   "id": "c61c87ea-7723-44f9-8e24-ac648f57f2d6",
   "metadata": {},
   "source": [
    "Exercise7"
   ]
  },
  {
   "cell_type": "code",
   "execution_count": 2,
   "id": "52ee352b-d769-40f2-8140-49ea3222ef0b",
   "metadata": {},
   "outputs": [
    {
     "name": "stdin",
     "output_type": "stream",
     "text": [
      " 1 0 3 3 2 5\n"
     ]
    },
    {
     "name": "stdout",
     "output_type": "stream",
     "text": [
      "True\n"
     ]
    }
   ],
   "source": [
    "def has_33(numbers):\n",
    "    for i in range(1, len(numbers) - 1):\n",
    "        if numbers[i] == 3:\n",
    "            if numbers[i-1] == 3 or numbers[i+1] == 3:\n",
    "                return True\n",
    "    return False\n",
    "numbers = list(map(int, input().split()))\n",
    "print(has_33(numbers))\n"
   ]
  },
  {
   "cell_type": "markdown",
   "id": "e0fcd944-df8d-4aed-9500-002ad622e9c0",
   "metadata": {},
   "source": [
    "Exercise8"
   ]
  },
  {
   "cell_type": "code",
   "execution_count": 35,
   "id": "af9e8032-c83c-45a1-b926-3f56603205be",
   "metadata": {},
   "outputs": [
    {
     "name": "stdin",
     "output_type": "stream",
     "text": [
      " 0 1 0 2 7\n"
     ]
    },
    {
     "name": "stdout",
     "output_type": "stream",
     "text": [
      "True\n"
     ]
    }
   ],
   "source": [
    "def spy_games(numbers):\n",
    "    zero = False\n",
    "    second_zero = False\n",
    "    for num in numbers:\n",
    "        if num == '0' and not zero:\n",
    "            zero = True\n",
    "        elif num == '0' and zero:\n",
    "            second_zero = True\n",
    "        elif num == '7' and zero and second_zero:\n",
    "            return True\n",
    "    return False\n",
    "numbers = input()\n",
    "print(spy_games(numbers))"
   ]
  },
  {
   "cell_type": "markdown",
   "id": "b8ead0ea-fbd6-42eb-bfcb-c4c331ed3cf9",
   "metadata": {},
   "source": [
    "Exercise9"
   ]
  },
  {
   "cell_type": "code",
   "execution_count": 38,
   "id": "365997c7-0ce5-4300-8583-eddb8c618c28",
   "metadata": {},
   "outputs": [
    {
     "name": "stdin",
     "output_type": "stream",
     "text": [
      " 4\n"
     ]
    },
    {
     "name": "stdout",
     "output_type": "stream",
     "text": [
      "268.082573106329\n"
     ]
    }
   ],
   "source": [
    "import math\n",
    "def sphere_volume(radius):\n",
    "    volume = (4/3) * math.pi * radius**3\n",
    "    return volume\n",
    "\n",
    "radius = float(input())\n",
    "print(sphere_volume(radius))\n"
   ]
  },
  {
   "cell_type": "markdown",
   "id": "f3ba4330-8a7e-429b-a489-dae3e89b6a87",
   "metadata": {},
   "source": [
    "Exercise10"
   ]
  },
  {
   "cell_type": "code",
   "execution_count": 42,
   "id": "94e6c93f-d2c0-4b9c-a3c0-1405a1a6588b",
   "metadata": {},
   "outputs": [
    {
     "name": "stdin",
     "output_type": "stream",
     "text": [
      " 1 1 2 2 3 3 4\n"
     ]
    },
    {
     "name": "stdout",
     "output_type": "stream",
     "text": [
      "[1, 2, 3, 4]\n"
     ]
    }
   ],
   "source": [
    "def remove_duplicates(num):\n",
    "    unique_nums = []\n",
    "    for i in num:\n",
    "        if i not in unique_nums:\n",
    "            unique_nums.append(i)\n",
    "    return unique_nums\n",
    "numbers = list(map(int, input().split()))\n",
    "print(remove_duplicates(numbers))"
   ]
  },
  {
   "cell_type": "markdown",
   "id": "bdb09554-237a-47d4-8a40-261dc1db3c83",
   "metadata": {},
   "source": [
    "Exercise11"
   ]
  },
  {
   "cell_type": "code",
   "execution_count": 6,
   "id": "c506639f-9dd5-4575-a005-d401af2a2b83",
   "metadata": {},
   "outputs": [
    {
     "name": "stdin",
     "output_type": "stream",
     "text": [
      " qazaq\n"
     ]
    },
    {
     "name": "stdout",
     "output_type": "stream",
     "text": [
      "True\n"
     ]
    }
   ],
   "source": [
    "def palindrom(s):\n",
    "    words = s.split()\n",
    "    rwords = words[::-1]\n",
    "    rsentence = \" \".join(rwords)\n",
    "    if s==rsentence:\n",
    "        return True\n",
    "    return False\n",
    "s=input()\n",
    "print(palindrom(s))"
   ]
  },
  {
   "cell_type": "markdown",
   "id": "d3d91a91-fa2a-4600-9d7b-bc87a76b3439",
   "metadata": {},
   "source": [
    "Exercise12"
   ]
  },
  {
   "cell_type": "code",
   "execution_count": 13,
   "id": "de2ad00b-a5a5-40af-839b-43844f3a4a66",
   "metadata": {},
   "outputs": [
    {
     "name": "stdin",
     "output_type": "stream",
     "text": [
      " 4 9 7\n"
     ]
    },
    {
     "name": "stdout",
     "output_type": "stream",
     "text": [
      "####\n",
      "#########\n",
      "#######\n"
     ]
    }
   ],
   "source": [
    "def histogram(nums):\n",
    "    for num in nums:\n",
    "        if num is not None:\n",
    "            print(f\"{'#' * num}\")\n",
    "data = list(map(int, input().split()))\n",
    "histogram(data)"
   ]
  },
  {
   "cell_type": "markdown",
   "id": "e8286dcc-992d-40c3-91e1-f7b6f2fffaa5",
   "metadata": {},
   "source": [
    "Exercise13"
   ]
  },
  {
   "cell_type": "code",
   "execution_count": 16,
   "id": "0b77a985-14ba-438e-9bec-66ee0dbb1d74",
   "metadata": {},
   "outputs": [
    {
     "name": "stdout",
     "output_type": "stream",
     "text": [
      "Hello! What is your name?\n"
     ]
    },
    {
     "name": "stdin",
     "output_type": "stream",
     "text": [
      " Askhat\n"
     ]
    },
    {
     "name": "stdout",
     "output_type": "stream",
     "text": [
      "Well, Askhat, I am thinking of a number between 1 and 20. Take a guess.\n"
     ]
    },
    {
     "name": "stdin",
     "output_type": "stream",
     "text": [
      " 12\n"
     ]
    },
    {
     "name": "stdout",
     "output_type": "stream",
     "text": [
      "Your guess is too low.Take a guess.\n"
     ]
    },
    {
     "name": "stdin",
     "output_type": "stream",
     "text": [
      " 16\n"
     ]
    },
    {
     "name": "stdout",
     "output_type": "stream",
     "text": [
      "Your guess is too low.Take a guess.\n"
     ]
    },
    {
     "name": "stdin",
     "output_type": "stream",
     "text": [
      " 18\n"
     ]
    },
    {
     "name": "stdout",
     "output_type": "stream",
     "text": [
      "Good job, Askhat! You guessed my number in 3 guesses!\n"
     ]
    }
   ],
   "source": [
    "import random\n",
    "\n",
    "def guess_the_number():\n",
    "    print(\"Hello! What is your name?\")\n",
    "    name = input()\n",
    "    print(f\"Well, {name}, I am thinking of a number between 1 and 20. \"\n",
    "          f\"Take a guess.\")\n",
    "    number = random.randint(1, 20)\n",
    "    attempts = 0\n",
    "    while True:\n",
    "        guess = int(input())\n",
    "        attempts += 1\n",
    "        if guess < number:\n",
    "            print(\"Your guess is too low.\"\n",
    "                  \"Take a guess.\")\n",
    "        elif guess > number:\n",
    "            print(\"Your guess is too high.\"\n",
    "                  \"Take a guess.\")\n",
    "        else:\n",
    "            print(f\"Good job, {name}! You guessed my number in {attempts} guesses!\")\n",
    "            break\n",
    "guess_the_number()"
   ]
  },
  {
   "cell_type": "markdown",
   "id": "fccf3d6b-af69-47a6-a089-a39b960c8aca",
   "metadata": {},
   "source": [
    "Exercise14"
   ]
  },
  {
   "cell_type": "code",
   "execution_count": null,
   "id": "7515e83c-717d-4489-9d85-ddc96feedb68",
   "metadata": {},
   "outputs": [],
   "source": []
  }
 ],
 "metadata": {
  "kernelspec": {
   "display_name": "Python [conda env:base] *",
   "language": "python",
   "name": "conda-base-py"
  },
  "language_info": {
   "codemirror_mode": {
    "name": "ipython",
    "version": 3
   },
   "file_extension": ".py",
   "mimetype": "text/x-python",
   "name": "python",
   "nbconvert_exporter": "python",
   "pygments_lexer": "ipython3",
   "version": "3.12.7"
  }
 },
 "nbformat": 4,
 "nbformat_minor": 5
}
